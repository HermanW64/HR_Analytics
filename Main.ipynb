{
 "cells": [
  {
   "cell_type": "code",
   "execution_count": 3,
   "id": "90bdf6f8",
   "metadata": {
    "scrolled": false
   },
   "outputs": [],
   "source": [
    "# import necessay components and libraries\n",
    "from DataLoader import DataLoader"
   ]
  },
  {
   "cell_type": "code",
   "execution_count": 4,
   "id": "adf13ea9",
   "metadata": {},
   "outputs": [
    {
     "name": "stdout",
     "output_type": "stream",
     "text": [
      "Data loaded! Run the cleaning pipeline now ...\n",
      "EmployeeCount is deleted!\n",
      "StandardHours is deleted!\n",
      "Over18 is deleted!\n",
      "Changed the value in variable Attrition, mapping rules are {'Yes': 1, 'No': 0}!\n",
      "Transformed the variable Attrition to data type <class 'int'>\n",
      "Dataset saved as both csv and excel!\n"
     ]
    }
   ],
   "source": [
    "# apply data pipeline to clean the data\n",
    "data_loader = DataLoader(\"Employee_Attrition.csv\")\n",
    "data_loader.run_pipeline()"
   ]
  }
 ],
 "metadata": {
  "kernelspec": {
   "display_name": "Python 3 (ipykernel)",
   "language": "python",
   "name": "python3"
  },
  "language_info": {
   "codemirror_mode": {
    "name": "ipython",
    "version": 3
   },
   "file_extension": ".py",
   "mimetype": "text/x-python",
   "name": "python",
   "nbconvert_exporter": "python",
   "pygments_lexer": "ipython3",
   "version": "3.9.13"
  }
 },
 "nbformat": 4,
 "nbformat_minor": 5
}
